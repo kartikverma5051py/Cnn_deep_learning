{
 "cells": [
  {
   "cell_type": "code",
   "execution_count": 3,
   "id": "626f32f1",
   "metadata": {},
   "outputs": [],
   "source": [
    "import tensorflow as tf\n",
    "from tensorflow.keras import datasets,layers,models\n",
    "import matplotlib.pyplot as plt\n",
    "import numpy as np"
   ]
  },
  {
   "cell_type": "code",
   "execution_count": 4,
   "id": "958fde65",
   "metadata": {},
   "outputs": [
    {
     "data": {
      "text/plain": [
       "(50000, 32, 32, 3)"
      ]
     },
     "execution_count": 4,
     "metadata": {},
     "output_type": "execute_result"
    }
   ],
   "source": [
    "(x_train,y_train),(x_test,y_test) = datasets.cifar10.load_data()\n",
    "x_train.shape"
   ]
  },
  {
   "cell_type": "code",
   "execution_count": 5,
   "id": "bcad9ee4",
   "metadata": {},
   "outputs": [
    {
     "data": {
      "text/plain": [
       "(10000, 32, 32, 3)"
      ]
     },
     "execution_count": 5,
     "metadata": {},
     "output_type": "execute_result"
    }
   ],
   "source": [
    "x_test.shape"
   ]
  },
  {
   "cell_type": "code",
   "execution_count": 11,
   "id": "c37e6c7e",
   "metadata": {},
   "outputs": [
    {
     "data": {
      "text/plain": [
       "array([[6],\n",
       "       [9],\n",
       "       [9],\n",
       "       [4],\n",
       "       [1]], dtype=uint8)"
      ]
     },
     "execution_count": 11,
     "metadata": {},
     "output_type": "execute_result"
    }
   ],
   "source": [
    "y_train[:5]"
   ]
  },
  {
   "cell_type": "code",
   "execution_count": 12,
   "id": "599356c0",
   "metadata": {},
   "outputs": [
    {
     "data": {
      "text/plain": [
       "array([6, 9, 9, 4, 1], dtype=uint8)"
      ]
     },
     "execution_count": 12,
     "metadata": {},
     "output_type": "execute_result"
    }
   ],
   "source": [
    "y_train = y_train.reshape(-1,)\n",
    "y_train[:5]"
   ]
  },
  {
   "cell_type": "code",
   "execution_count": 9,
   "id": "366ea05f",
   "metadata": {},
   "outputs": [
    {
     "data": {
      "text/plain": [
       "<matplotlib.image.AxesImage at 0x2d19e797c70>"
      ]
     },
     "execution_count": 9,
     "metadata": {},
     "output_type": "execute_result"
    },
    {
     "data": {
      "image/png": "[encoded data removed]",
      "text/plain": [
       "<Figure size 1080x144 with 1 Axes>"
      ]
     },
     "metadata": {
      "needs_background": "light"
     },
     "output_type": "display_data"
    }
   ],
   "source": [
    "plt.figure(figsize = (15,2))\n",
    "plt.imshow(x_train[0])"
   ]
  },
  {
   "cell_type": "code",
   "execution_count": 10,
   "id": "1a21c066",
   "metadata": {},
   "outputs": [],
   "source": [
    "classes = [\"airplane\",\"automobile\",\"bird\",\"cat\",\"deer\",\"dog\",\"frog\",\"horse\",\"ship\",\"truck\"]"
   ]
  },
  {
   "cell_type": "code",
   "execution_count": 25,
   "id": "c4998bc7",
   "metadata": {},
   "outputs": [],
   "source": [
    "def plot_sample(x,y,index):\n",
    "    plt.figure(figsize= (15,2))\n",
    "    plt.imshow(x[index])\n",
    "    plt.xlabel(classes[y[index]])"
   ]
  },
  {
   "cell_type": "code",
   "execution_count": 26,
   "id": "8128ae72",
   "metadata": {},
   "outputs": [
    {
     "data": {
      "image/png": "[encoded data removed]",
      "text/plain": [
       "<Figure size 1080x144 with 1 Axes>"
      ]
     },
     "metadata": {
      "needs_background": "light"
     },
     "output_type": "display_data"
    }
   ],
   "source": [
    "plot_sample(x_train,y_train,4)"
   ]
  },
  {
   "cell_type": "markdown",
   "id": "f341e818",
   "metadata": {},
   "source": [
    "# Normalize our Data"
   ]
  },
  {
   "cell_type": "code",
   "execution_count": 15,
   "id": "21749ea8",
   "metadata": {},
   "outputs": [],
   "source": [
    "x_train = x_train/255\n",
    "x_test = x_test/255"
   ]
  },
  {
   "cell_type": "markdown",
   "id": "cb519638",
   "metadata": {},
   "source": [
    "# first we will build ANN "
   ]
  },
  {
   "cell_type": "code",
   "execution_count": 17,
   "id": "52b7c603",
   "metadata": {},
   "outputs": [
    {
     "name": "stdout",
     "output_type": "stream",
     "text": [
      "Epoch 1/5\n",
      "1563/1563 [==============================] - 61s 38ms/step - loss: 1.8104 - accuracy: 0.3552\n",
      "Epoch 2/5\n",
      "1563/1563 [==============================] - 62s 40ms/step - loss: 1.6191 - accuracy: 0.4306\n",
      "Epoch 3/5\n",
      "1563/1563 [==============================] - 57s 36ms/step - loss: 1.5373 - accuracy: 0.4574\n",
      "Epoch 4/5\n",
      "1563/1563 [==============================] - 57s 37ms/step - loss: 1.4794 - accuracy: 0.4783\n",
      "Epoch 5/5\n",
      "1563/1563 [==============================] - 57s 37ms/step - loss: 1.4313 - accuracy: 0.4948\n"
     ]
    },
    {
     "data": {
      "text/plain": [
       "<keras.callbacks.History at 0x2d19bb26580>"
      ]
     },
     "execution_count": 17,
     "metadata": {},
     "output_type": "execute_result"
    }
   ],
   "source": [
    "ann = models.Sequential([\n",
    "    layers.Flatten(input_shape=(32,32,3)),\n",
    "    layers.Dense(3000,activation = \"relu\"),\n",
    "    layers.Dense(1000,activation = \"relu\"),\n",
    "    layers.Dense(10,activation=\"sigmoid\")\n",
    "])\n",
    "ann.compile(optimizer= \"SGD\",\n",
    "           loss = \"sparse_categorical_crossentropy\",\n",
    "           metrics = [\"accuracy\"])\n",
    "ann.fit(x_train,y_train,epochs=5)"
   ]
  },
  {
   "cell_type": "code",
   "execution_count": 18,
   "id": "35e3933f",
   "metadata": {},
   "outputs": [
    {
     "name": "stdout",
     "output_type": "stream",
     "text": [
      "313/313 [==============================] - 5s 13ms/step - loss: 1.4848 - accuracy: 0.4730\n"
     ]
    },
    {
     "data": {
      "text/plain": [
       "[1.4848383665084839, 0.4729999899864197]"
      ]
     },
     "execution_count": 18,
     "metadata": {},
     "output_type": "execute_result"
    }
   ],
   "source": [
    "ann.evaluate(x_test,y_test)"
   ]
  },
  {
   "cell_type": "code",
   "execution_count": 20,
   "id": "c331b0a4",
   "metadata": {},
   "outputs": [
    {
     "name": "stdout",
     "output_type": "stream",
     "text": [
      "classification Report : \n",
      "               precision    recall  f1-score   support\n",
      "\n",
      "           0       0.71      0.32      0.44      1000\n",
      "           1       0.69      0.50      0.58      1000\n",
      "           2       0.29      0.50      0.37      1000\n",
      "           3       0.32      0.37      0.35      1000\n",
      "           4       0.55      0.28      0.37      1000\n",
      "           5       0.40      0.38      0.39      1000\n",
      "           6       0.44      0.67      0.53      1000\n",
      "           7       0.66      0.42      0.51      1000\n",
      "           8       0.55      0.69      0.61      1000\n",
      "           9       0.53      0.61      0.57      1000\n",
      "\n",
      "    accuracy                           0.47     10000\n",
      "   macro avg       0.52      0.47      0.47     10000\n",
      "weighted avg       0.52      0.47      0.47     10000\n",
      "\n"
     ]
    }
   ],
   "source": [
    "from sklearn.metrics import confusion_matrix , classification_report\n",
    "import numpy as np\n",
    "y_pred = ann.predict(x_test)\n",
    "y_pred_classes = [np.argmax(element) for element in y_pred]\n",
    "print(\"classification Report : \\n\", classification_report(y_test,y_pred_classes))"
   ]
  },
  {
   "cell_type": "markdown",
   "id": "2c65ffdf",
   "metadata": {},
   "source": [
    "# Cnn "
   ]
  },
  {
   "cell_type": "code",
   "execution_count": 37,
   "id": "418f5ca7",
   "metadata": {},
   "outputs": [],
   "source": [
    "Cnn = models.Sequential([\n",
    "    #cnn layer\n",
    "    layers.Conv2D(filters=32, kernel_size=(3, 3), activation='relu', input_shape=(32, 32, 3)),\n",
    "    layers.MaxPooling2D((2, 2)),\n",
    "    \n",
    "    layers.Conv2D(filters=64, kernel_size=(3, 3), activation='relu'),\n",
    "    layers.MaxPooling2D((2, 2)),\n",
    "    # dense\n",
    "    layers.Flatten(),\n",
    "    layers.Dense(64,activation=\"relu\"),\n",
    "    layers.Dense(10,activation=\"softmax\")\n",
    "])\n"
   ]
  },
  {
   "cell_type": "code",
   "execution_count": 40,
   "id": "e22bd47d",
   "metadata": {},
   "outputs": [],
   "source": [
    "cnn.compile(optimizer=\"adam\",\n",
    "           loss='sparse_categorical_crossentropy',\n",
    "           metrics=[\"accuracy\"])"
   ]
  },
  {
   "cell_type": "code",
   "execution_count": 41,
   "id": "1387c21b",
   "metadata": {},
   "outputs": [
    {
     "name": "stdout",
     "output_type": "stream",
     "text": [
      "Epoch 1/10\n",
      "1563/1563 [==============================] - 40s 24ms/step - loss: 1.4927 - accuracy: 0.4598\n",
      "Epoch 2/10\n",
      "1563/1563 [==============================] - 39s 25ms/step - loss: 1.1365 - accuracy: 0.6034\n",
      "Epoch 3/10\n",
      "1563/1563 [==============================] - 39s 25ms/step - loss: 1.0069 - accuracy: 0.6488\n",
      "Epoch 4/10\n",
      "1563/1563 [==============================] - 39s 25ms/step - loss: 0.9246 - accuracy: 0.68080s - los\n",
      "Epoch 5/10\n",
      "1563/1563 [==============================] - 38s 25ms/step - loss: 0.8600 - accuracy: 0.7012\n",
      "Epoch 6/10\n",
      "1563/1563 [==============================] - 39s 25ms/step - loss: 0.8058 - accuracy: 0.7205\n",
      "Epoch 7/10\n",
      "1563/1563 [==============================] - 38s 25ms/step - loss: 0.7596 - accuracy: 0.7363\n",
      "Epoch 8/10\n",
      "1563/1563 [==============================] - 39s 25ms/step - loss: 0.7208 - accuracy: 0.7486\n",
      "Epoch 9/10\n",
      "1563/1563 [==============================] - 38s 25ms/step - loss: 0.6842 - accuracy: 0.76141s - los - ETA: 0s - los\n",
      "Epoch 10/10\n",
      "1563/1563 [==============================] - 38s 24ms/step - loss: 0.6516 - accuracy: 0.7714\n"
     ]
    },
    {
     "data": {
      "text/plain": [
       "<keras.callbacks.History at 0x2d1996b9310>"
      ]
     },
     "execution_count": 41,
     "metadata": {},
     "output_type": "execute_result"
    }
   ],
   "source": [
    "cnn.fit(x_train,y_train,epochs=10)"
   ]
  },
  {
   "cell_type": "code",
   "execution_count": 42,
   "id": "07a48206",
   "metadata": {},
   "outputs": [
    {
     "name": "stdout",
     "output_type": "stream",
     "text": [
      "313/313 [==============================] - 3s 10ms/step - loss: 0.9039 - accuracy: 0.7032\n"
     ]
    },
    {
     "data": {
      "text/plain": [
       "[0.9038803577423096, 0.7031999826431274]"
      ]
     },
     "execution_count": 42,
     "metadata": {},
     "output_type": "execute_result"
    }
   ],
   "source": [
    "cnn.evaluate(x_test,y_test)"
   ]
  },
  {
   "cell_type": "code",
   "execution_count": 45,
   "id": "c9f8f36f",
   "metadata": {},
   "outputs": [
    {
     "data": {
      "image/png": "[encoded data removed]",
      "text/plain": [
       "<Figure size 1080x144 with 1 Axes>"
      ]
     },
     "metadata": {
      "needs_background": "light"
     },
     "output_type": "display_data"
    }
   ],
   "source": [
    "y_test = y_test.reshape(-1,)\n",
    "plot_sample(x_test,y_test,4)"
   ]
  },
  {
   "cell_type": "markdown",
   "id": "8e27aa75",
   "metadata": {},
   "source": [
    "# prediction"
   ]
  },
  {
   "cell_type": "code",
   "execution_count": 43,
   "id": "00e64a94",
   "metadata": {},
   "outputs": [
    {
     "data": {
      "text/plain": [
       "array([[2.29184971e-05, 5.03201761e-07, 8.62496090e-04, 9.86924410e-01,\n",
       "        1.84435812e-05, 7.92752393e-03, 1.26755491e-04, 1.36638846e-07,\n",
       "        4.11422504e-03, 2.63651327e-06],\n",
       "       [1.93440972e-03, 2.32379258e-01, 1.90030296e-05, 1.12047751e-07,\n",
       "        2.41160308e-07, 1.57116162e-07, 1.03122755e-09, 3.43539995e-07,\n",
       "        7.65227914e-01, 4.38628020e-04],\n",
       "       [7.20910728e-02, 1.02401823e-01, 3.14412103e-03, 1.16060264e-02,\n",
       "        3.46082449e-03, 1.56443880e-03, 1.03226674e-04, 6.83354971e-04,\n",
       "        7.84895420e-01, 2.00496726e-02],\n",
       "       [8.68783712e-01, 2.66639097e-03, 1.63295977e-02, 1.68065599e-03,\n",
       "        2.18027290e-02, 5.75253443e-06, 2.35542338e-05, 5.95999381e-06,\n",
       "        8.84179324e-02, 2.83804809e-04],\n",
       "       [3.60555646e-07, 7.30186948e-05, 3.04353479e-02, 2.29585573e-01,\n",
       "        4.05611098e-01, 3.82555686e-02, 2.95634806e-01, 1.82929347e-04,\n",
       "        2.20085596e-04, 1.31252273e-06]], dtype=float32)"
      ]
     },
     "execution_count": 43,
     "metadata": {},
     "output_type": "execute_result"
    }
   ],
   "source": [
    "y_pred = cnn.predict(x_test)\n",
    "y_pred[:5]"
   ]
  },
  {
   "cell_type": "code",
   "execution_count": 49,
   "id": "1c6cc8a3",
   "metadata": {},
   "outputs": [
    {
     "data": {
      "text/plain": [
       "[3, 8, 8, 0, 4, 6, 5, 6, 3, 1]"
      ]
     },
     "execution_count": 49,
     "metadata": {},
     "output_type": "execute_result"
    }
   ],
   "source": [
    "y_classes = [np.argmax(element) for element in y_pred]\n",
    "y_classes[:10]"
   ]
  },
  {
   "cell_type": "code",
   "execution_count": 50,
   "id": "d3c1736e",
   "metadata": {},
   "outputs": [
    {
     "data": {
      "text/plain": [
       "array([3, 8, 8, 0, 6, 6, 1, 6, 3, 1], dtype=uint8)"
      ]
     },
     "execution_count": 50,
     "metadata": {},
     "output_type": "execute_result"
    }
   ],
   "source": [
    "y_test[:10]"
   ]
  },
  {
   "cell_type": "code",
   "execution_count": 51,
   "id": "5050b8bb",
   "metadata": {},
   "outputs": [
    {
     "data": {
      "image/png": "[encoded data removed]",
      "text/plain": [
       "<Figure size 1080x144 with 1 Axes>"
      ]
     },
     "metadata": {
      "needs_background": "light"
     },
     "output_type": "display_data"
    }
   ],
   "source": [
    "plot_sample(x_test,y_test,3)"
   ]
  },
  {
   "cell_type": "code",
   "execution_count": 52,
   "id": "5e90a231",
   "metadata": {},
   "outputs": [
    {
     "name": "stdout",
     "output_type": "stream",
     "text": [
      "classification report : \n",
      "               precision    recall  f1-score   support\n",
      "\n",
      "           0       0.79      0.73      0.76      1000\n",
      "           1       0.80      0.83      0.81      1000\n",
      "           2       0.64      0.58      0.61      1000\n",
      "           3       0.49      0.58      0.53      1000\n",
      "           4       0.66      0.64      0.65      1000\n",
      "           5       0.57      0.65      0.61      1000\n",
      "           6       0.84      0.71      0.77      1000\n",
      "           7       0.70      0.78      0.73      1000\n",
      "           8       0.85      0.77      0.81      1000\n",
      "           9       0.79      0.76      0.78      1000\n",
      "\n",
      "    accuracy                           0.70     10000\n",
      "   macro avg       0.71      0.70      0.71     10000\n",
      "weighted avg       0.71      0.70      0.71     10000\n",
      "\n"
     ]
    }
   ],
   "source": [
    "print(\"classification report : \\n\",classification_report(y_test,y_classes))"
   ]
  },
  {
   "cell_type": "code",
   "execution_count": null,
   "id": "3c3adebd",
   "metadata": {},
   "outputs": [],
   "source": []
  }
 ],
 "metadata": {
  "kernelspec": {
   "display_name": "Python 3 (ipykernel)",
   "language": "python",
   "name": "python3"
  },
  "language_info": {
   "codemirror_mode": {
    "name": "ipython",
    "version": 3
   },
   "file_extension": ".py",
   "mimetype": "text/x-python",
   "name": "python",
   "nbconvert_exporter": "python",
   "pygments_lexer": "ipython3",
   "version": "3.9.6"
  }
 },
 "nbformat": 4,
 "nbformat_minor": 5
}
